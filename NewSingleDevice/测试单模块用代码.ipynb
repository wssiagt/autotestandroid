{
 "cells": [
  {
   "cell_type": "code",
   "execution_count": null,
   "id": "8664e849",
   "metadata": {
    "scrolled": true
   },
   "outputs": [],
   "source": [
    "\"\"\"单模块测试部分\"\"\"\n",
    "import time\n",
    "from appium import webdriver\n",
    "from appium.webdriver.common.appiumby import AppiumBy\n",
    "from appium.options.android import UiAutomator2Options\n",
    "from NetworkSwitch import NetworkSwitcher\n",
    "from NetworkValidation import NetworkValidator\n",
    "from Zhujiao import __main__ as run_call\n",
    "from voltetest import check_and_toggle_volte\n",
    "# 配置 Appium\n",
    "options = UiAutomator2Options()\n",
    "options.platform_name = \"Android\"\n",
    "options.device_name = \"DUT\"\n",
    "driver = webdriver.Remote(\"http://127.0.0.1:4723\", options=options)\n",
    "\n",
    "check_and_toggle_volte(driver, \"ON\", \"SIM1\")\n",
    "\n",
    "driver.quit()\n"
   ]
  },
  {
   "cell_type": "code",
   "execution_count": null,
   "id": "f195aafc",
   "metadata": {},
   "outputs": [],
   "source": []
  },
  {
   "cell_type": "code",
   "execution_count": null,
   "id": "f9365dec",
   "metadata": {},
   "outputs": [],
   "source": [
    "%run AP5432.py SIM1 5G,4G,2G"
   ]
  },
  {
   "cell_type": "code",
   "execution_count": null,
   "id": "fb6d8759",
   "metadata": {},
   "outputs": [],
   "source": [
    "%run sms.py +351962835595 Testing SIM1\n",
    "%run sms.py +351962835595 Testing SIM2"
   ]
  },
  {
   "cell_type": "code",
   "execution_count": null,
   "id": "c9da0656",
   "metadata": {},
   "outputs": [],
   "source": []
  },
  {
   "cell_type": "code",
   "execution_count": 1,
   "id": "e44dcb70",
   "metadata": {
    "scrolled": false
   },
   "outputs": [
    {
     "name": "stdout",
     "output_type": "stream",
     "text": [
      "更新设备中的 SIM 卡信息...\n",
      "Turning VoLTE ON.\n",
      "Turning VoLTE ON.\n",
      "Validation successful: SIM1 is registered on 5G NSA network.\n",
      "Validation successful: SIM2 is registered on 5G NSA network.\n",
      "Call connected\n",
      "Call connected\n",
      "Validation successful: SIM1 is registered on 4G network.\n",
      "Validation successful: SIM2 is registered on 4G network.\n",
      "Call connected\n",
      "Call connected\n",
      "Turning VoLTE OFF.\n",
      "Turning VoLTE OFF.\n",
      "Validation successful: SIM1 is registered on 5G NSA network.\n",
      "Validation successful: SIM2 is registered on 5G NSA network.\n",
      "Call connected\n",
      "Call connected\n",
      "Validation successful: SIM1 is registered on 4G network.\n",
      "Validation successful: SIM2 is registered on 4G network.\n",
      "Call connected\n",
      "Call connected\n",
      "Validation successful: SIM1 is registered on 2G network.\n",
      "Validation successful: SIM2 is registered on 2G network.\n",
      "Call connected\n",
      "Call connected\n",
      "所有网络类型和拨号测试完成！\n"
     ]
    }
   ],
   "source": [
    "%run run_it"
   ]
  },
  {
   "cell_type": "code",
   "execution_count": null,
   "id": "442eb802",
   "metadata": {},
   "outputs": [],
   "source": []
  }
 ],
 "metadata": {
  "kernelspec": {
   "display_name": "Python 3 (ipykernel)",
   "language": "python",
   "name": "python3"
  },
  "language_info": {
   "codemirror_mode": {
    "name": "ipython",
    "version": 3
   },
   "file_extension": ".py",
   "mimetype": "text/x-python",
   "name": "python",
   "nbconvert_exporter": "python",
   "pygments_lexer": "ipython3",
   "version": "3.11.5"
  }
 },
 "nbformat": 4,
 "nbformat_minor": 5
}
