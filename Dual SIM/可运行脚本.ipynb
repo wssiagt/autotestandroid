{
 "cells": [
  {
   "cell_type": "code",
   "execution_count": null,
   "id": "3eded2bf",
   "metadata": {},
   "outputs": [],
   "source": [
    "%run qhwl.py SIM1 5G\n",
    "# 测试连通性\n",
    "%run pingtest.py"
   ]
  },
  {
   "cell_type": "code",
   "execution_count": null,
   "id": "84c3bd51",
   "metadata": {},
   "outputs": [],
   "source": [
    "%run qhwl.py SIM1 4G\n",
    "# 测试连通性\n",
    "%run pingtest.py"
   ]
  },
  {
   "cell_type": "code",
   "execution_count": null,
   "id": "a7b6d549",
   "metadata": {},
   "outputs": [],
   "source": [
    "%run qhwl.py SIM1 2G\n",
    "# 测试连通性\n",
    "%run pingtest.py"
   ]
  },
  {
   "cell_type": "code",
   "execution_count": null,
   "id": "1cda7ae6",
   "metadata": {
    "scrolled": true
   },
   "outputs": [],
   "source": [
    "# VoLTE开关\n",
    "%run volte.py SIM1 OFF"
   ]
  },
  {
   "cell_type": "code",
   "execution_count": 13,
   "id": "2d0456df",
   "metadata": {
    "scrolled": true
   },
   "outputs": [
    {
     "name": "stdout",
     "output_type": "stream",
     "text": [
      "Sending SMS #1...\n",
      "Sending SMS...\n",
      "Checking current SIM selection...\n",
      "Target SIM (SIM1) is already selected.\n",
      "Message sent successfully.\n",
      "Waiting 3 seconds before sending the next message...\n",
      "Sending SMS #2...\n",
      "Sending SMS...\n",
      "Checking current SIM selection...\n",
      "Target SIM (SIM1) is already selected.\n",
      "Message sent successfully.\n"
     ]
    }
   ],
   "source": [
    "%run sms.py +351962835595 \"Hello, this is a test message.\" SIM1"
   ]
  },
  {
   "cell_type": "code",
   "execution_count": null,
   "id": "70e9c771",
   "metadata": {},
   "outputs": [],
   "source": []
  },
  {
   "cell_type": "code",
   "execution_count": null,
   "id": "b34e8a47",
   "metadata": {},
   "outputs": [],
   "source": []
  },
  {
   "cell_type": "code",
   "execution_count": null,
   "id": "b1805267",
   "metadata": {},
   "outputs": [],
   "source": []
  },
  {
   "cell_type": "code",
   "execution_count": null,
   "id": "2de6b12f",
   "metadata": {},
   "outputs": [],
   "source": [
    "%run MT.py"
   ]
  },
  {
   "cell_type": "code",
   "execution_count": null,
   "id": "6b0c5e79",
   "metadata": {},
   "outputs": [],
   "source": [
    "%run testqh.py SIM1 2G\n",
    "# 测试版本"
   ]
  },
  {
   "cell_type": "code",
   "execution_count": null,
   "id": "1522680e",
   "metadata": {},
   "outputs": [],
   "source": []
  }
 ],
 "metadata": {
  "kernelspec": {
   "display_name": "Python 3 (ipykernel)",
   "language": "python",
   "name": "python3"
  },
  "language_info": {
   "codemirror_mode": {
    "name": "ipython",
    "version": 3
   },
   "file_extension": ".py",
   "mimetype": "text/x-python",
   "name": "python",
   "nbconvert_exporter": "python",
   "pygments_lexer": "ipython3",
   "version": "3.11.5"
  }
 },
 "nbformat": 4,
 "nbformat_minor": 5
}
